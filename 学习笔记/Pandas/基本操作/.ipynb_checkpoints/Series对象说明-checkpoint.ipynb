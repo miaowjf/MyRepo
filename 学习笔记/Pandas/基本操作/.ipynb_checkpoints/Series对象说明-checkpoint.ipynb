{
 "cells": [
  {
   "cell_type": "code",
   "execution_count": 1,
   "id": "b53343c9",
   "metadata": {},
   "outputs": [],
   "source": [
    "import pandas as pd"
   ]
  },
  {
   "cell_type": "code",
   "execution_count": 2,
   "id": "93be84df",
   "metadata": {},
   "outputs": [],
   "source": [
    "data=['张三','李四','王五']\n",
    "index=[80,90,100]\n",
    "s=pd.Series(data=data,index=index)"
   ]
  },
  {
   "cell_type": "code",
   "execution_count": 4,
   "id": "a7e0aa3f",
   "metadata": {},
   "outputs": [
    {
     "name": "stdout",
     "output_type": "stream",
     "text": [
      "80     张三\n",
      "90     李四\n",
      "100    王五\n",
      "dtype: object -- <class 'pandas.core.series.Series'>\n"
     ]
    }
   ],
   "source": [
    "print(s,'--',type(s))"
   ]
  },
  {
   "cell_type": "code",
   "execution_count": 12,
   "id": "e694ecfd",
   "metadata": {},
   "outputs": [
    {
     "name": "stdout",
     "output_type": "stream",
     "text": [
      "80     张三\n",
      "90     李四\n",
      "100    王五\n",
      "dtype: object \n",
      " <class 'pandas.core.series.Series'>\n",
      "s2: \n",
      " 0    张三\n",
      "1    李四\n",
      "2    王五\n",
      "dtype: object\n"
     ]
    }
   ],
   "source": [
    "s1=pd.Series(data,index)\n",
    "s2=pd.Series(data)\n",
    "print(s1,'\\n',type(s1))\n",
    "print('s2:','\\n',s2)"
   ]
  },
  {
   "cell_type": "code",
   "execution_count": 15,
   "id": "08252fa0",
   "metadata": {},
   "outputs": [
    {
     "name": "stdout",
     "output_type": "stream",
     "text": [
      "张三 王五\n"
     ]
    }
   ],
   "source": [
    "print(s1[80],s2[2])"
   ]
  },
  {
   "cell_type": "code",
   "execution_count": 19,
   "id": "88fbb21c",
   "metadata": {},
   "outputs": [
    {
     "name": "stdout",
     "output_type": "stream",
     "text": [
      "80    张三\n",
      "90    李四\n",
      "dtype: object\n"
     ]
    }
   ],
   "source": [
    "print(s1[[80,90]])#获取两个(或多个）索引对应的值时，使用两个中括号（索引间用逗号隔开）"
   ]
  },
  {
   "cell_type": "markdown",
   "id": "c6c66335",
   "metadata": {},
   "source": [
    "## 切片\n",
    "系列名[start:stop:step]"
   ]
  },
  {
   "cell_type": "code",
   "execution_count": 24,
   "id": "e861c4cb",
   "metadata": {},
   "outputs": [
    {
     "name": "stdout",
     "output_type": "stream",
     "text": [
      "90    李四\n",
      "dtype: object\n"
     ]
    }
   ],
   "source": [
    "print(s1[1:-1:1])"
   ]
  },
  {
   "cell_type": "markdown",
   "id": "7f2fa82a",
   "metadata": {},
   "source": [
    "## 获取系列的值和键\n",
    "s.index\n",
    "s.values\n",
    "print(s1.values,s1.index)"
   ]
  },
  {
   "cell_type": "code",
   "execution_count": 26,
   "id": "d673dad2",
   "metadata": {},
   "outputs": [
    {
     "name": "stdout",
     "output_type": "stream",
     "text": [
      "Int64Index([80, 90, 100], dtype='int64') ['张三' '李四' '王五']\n"
     ]
    }
   ],
   "source": [
    "print(s.index,s.values)"
   ]
  },
  {
   "cell_type": "code",
   "execution_count": null,
   "id": "ffd71621",
   "metadata": {},
   "outputs": [],
   "source": []
  }
 ],
 "metadata": {
  "kernelspec": {
   "display_name": "Python 3 (ipykernel)",
   "language": "python",
   "name": "python3"
  },
  "language_info": {
   "codemirror_mode": {
    "name": "ipython",
    "version": 3
   },
   "file_extension": ".py",
   "mimetype": "text/x-python",
   "name": "python",
   "nbconvert_exporter": "python",
   "pygments_lexer": "ipython3",
   "version": "3.8.9"
  }
 },
 "nbformat": 4,
 "nbformat_minor": 5
}
